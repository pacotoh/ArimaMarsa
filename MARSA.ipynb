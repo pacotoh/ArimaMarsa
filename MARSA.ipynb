{
 "cells": [
  {
   "cell_type": "code",
   "execution_count": null,
   "metadata": {
    "scrolled": true
   },
   "outputs": [],
   "source": [
    "# Data Analysis modules\n",
    "import pandas as pd\n",
    "import numpy as np\n",
    "import matplotlib.pylab as plt\n",
    "from matplotlib.pylab import rcParams\n",
    "rcParams['figure.figsize'] = 12, 6\n",
    "plt.figure(figsize=(12,8))\n",
    "plt.style.use('seaborn-white')\n",
    "%matplotlib inline\n",
    "import seaborn; seaborn.set() \n",
    "import matplotlib.dates as mdates\n",
    "import warnings\n",
    "warnings.filterwarnings('ignore')\n",
    "from sklearn.metrics import mean_squared_error\n",
    "import pickle\n",
    "import os\n",
    "\n",
    "# ARIMA and Time Series modules\n",
    "from statsmodels.tsa.statespace.sarimax import SARIMAX\n",
    "from statsmodels.tsa.stattools import adfuller\n",
    "from statsmodels.tsa.seasonal import seasonal_decompose\n",
    "from statsmodels.tsa.stattools import acf, pacf\n",
    "from statsmodels.tsa.arima_model import ARIMA\n",
    "\n",
    "from statsmodels.graphics.tsaplots import plot_acf\n",
    "from statsmodels.graphics.tsaplots import plot_pacf\n",
    "import plotly.plotly as py\n",
    "import plotly.graph_objs as go\n",
    "from datetime import datetime\n",
    "# We need to sign in into plotly\n",
    "py.sign_in('pacotoh', '0Xs6UhX02SLO5fy8XLWk')"
   ]
  },
  {
   "cell_type": "code",
   "execution_count": null,
   "metadata": {
    "scrolled": true
   },
   "outputs": [],
   "source": [
    "# Methods to load and save data from/to pickles\n",
    "def save_to_pickle(obj, path='default.pkl'):\n",
    "    if not os.path.exists(path):\n",
    "        pickle.dump(obj, open(path, 'wb'))\n",
    "    \n",
    "def load_from_pickle(path='default.pkl'):\n",
    "    if os.path.exists(path):\n",
    "        return pickle.load(open(path, 'rb'))\n",
    "    else:\n",
    "        return None"
   ]
  },
  {
   "cell_type": "code",
   "execution_count": null,
   "metadata": {
    "scrolled": true
   },
   "outputs": [],
   "source": [
    "# Loading the series from csv files\n",
    "path = 'Data_2009_2017/'\n",
    "df_marsa = pd.DataFrame.from_csv(path + 'nserie-marsa.csv', index_col= None, header=None)\n",
    "df_levoflo = pd.DataFrame.from_csv(path + 'dserie-levoflo.csv', index_col= None, header=None)\n",
    "df_staphylo = pd.DataFrame.from_csv(path + 'nserie-staphylo.csv', index_col= None, header=None)"
   ]
  },
  {
   "cell_type": "code",
   "execution_count": null,
   "metadata": {
    "scrolled": true
   },
   "outputs": [],
   "source": [
    "# Date formating: We have data from 2009 to 2018\n",
    "from datetime import datetime, timedelta\n",
    "import dateutil.parser\n",
    "\n",
    "months = pd.date_range(\"2009-01-31\", \"2018-01-31\", freq='M')\n",
    "months = pd.to_datetime(months)\n",
    "df_marsa.set_index(months, drop=True, inplace=True)\n",
    "df_staphylo.set_index(months, drop=True, inplace=True)\n",
    "df_levoflo.set_index(months, drop=True, inplace=True)"
   ]
  },
  {
   "cell_type": "code",
   "execution_count": null,
   "metadata": {
    "scrolled": true
   },
   "outputs": [],
   "source": [
    "# Training set: 2009-2016\n",
    "# Test set: 2017\n",
    "df_training, df_test = df_marsa[0][0:96], df_marsa[0][96:]\n",
    "\n",
    "df_training = pd.DataFrame(df_training)\n",
    "df_test = pd.DataFrame(df_test)"
   ]
  },
  {
   "cell_type": "code",
   "execution_count": null,
   "metadata": {
    "scrolled": true
   },
   "outputs": [],
   "source": [
    "from scipy.optimize import brute\n",
    "\n",
    "# Root mean squared error\n",
    "def get_rmse(y, y_hat):\n",
    "    mse = np.mean((y - y_hat)**2)\n",
    "    return np.sqrt(mse)\n",
    "\n",
    "# ARIMA Modeling\n",
    "def auto_arima(endog, verbose = True, \n",
    "                ranges = (slice(0,5), slice(0,2), slice(0,5), slice(0,5), slice(0,2), slice(0,5), slice(0,12))):      \n",
    "    global grid\n",
    "    grid = []\n",
    "    resultsbrute = brute(arima_modeling, ranges=ranges, args=(endog,), \n",
    "                         full_output=True, finish=None)\n",
    "    del grid[0]\n",
    "    return resultsbrute\n",
    "\n",
    "def arima_modeling(coeffs, *args):\n",
    "    endog = args[0]\n",
    "    order = coeffs[0:3].tolist()\n",
    "    seasonal_order = coeffs[3:7].tolist()\n",
    "    try:        \n",
    "        mod = SARIMAX(endog, order=order, seasonal_order=seasonal_order, \n",
    "                      enforce_stationarity=False, enforce_invertibility=False)\n",
    "        fit = mod.fit(disp=False)\n",
    "        aic = fit.aic\n",
    "        bic = fit.bic\n",
    "        rmse = get_rmse(df_test[0], fit.predict(start = 96, end = df_test.index[-1]))\n",
    "        rmse6 = get_rmse(df_test[0], fit.predict(start = 96, end = 102))\n",
    "        rmse3 = get_rmse(df_test[0], fit.predict(start = 96, end = 99))\n",
    "    except:             \n",
    "        aic, bic, rmse, rmse6, rmse3, fit =  np.inf, np.inf, np.inf, np.inf, np.inf, np.inf\n",
    "    global grid\n",
    "    grid.append([coeffs, aic, bic, rmse, rmse6, rmse3, fit])\n",
    "    return rmse"
   ]
  },
  {
   "cell_type": "code",
   "execution_count": null,
   "metadata": {
    "scrolled": true
   },
   "outputs": [],
   "source": [
    "\n",
    "df_grid = pd.DataFrame(grid)\n",
    "df_grid.columns = ['Model', 'BIC', 'AIC', 'RMSE', 'RMSE6', 'RMSE3', 'ModelFit']\n",
    "df_grid.sort_values('RMSE', inplace=True)\n",
    "df_grid.dropna(inplace=True)\n",
    "df_grid = df_grid[df_grid['BIC'] != np.Inf]\n",
    "save_to_pickle(df_grid, 'DataFrames/MARSA_grid.pkl')"
   ]
  },
  {
   "cell_type": "code",
   "execution_count": null,
   "metadata": {
    "scrolled": false
   },
   "outputs": [],
   "source": [
    "# We already have the data stored into MARSA_grid.pkl but it can be generated calling auto_arima\n",
    "df_grid = load_from_pickle('DataFrames/MARSA_grid.pkl')\n",
    "df_grid"
   ]
  },
  {
   "cell_type": "markdown",
   "metadata": {},
   "source": [
    "## MARSA Series Representation"
   ]
  },
  {
   "cell_type": "code",
   "execution_count": null,
   "metadata": {
    "scrolled": true
   },
   "outputs": [],
   "source": [
    "py.iplot([{\n",
    "    'x': df_marsa.index,\n",
    "    'y': df_marsa[col],\n",
    "    'name': col\n",
    "}  for col in df_marsa.columns], filename='marsa')"
   ]
  },
  {
   "cell_type": "markdown",
   "metadata": {},
   "source": [
    "### MARSA Series Histogram"
   ]
  },
  {
   "cell_type": "code",
   "execution_count": null,
   "metadata": {
    "scrolled": true
   },
   "outputs": [],
   "source": [
    "hist = df_training[0].hist()"
   ]
  },
  {
   "cell_type": "markdown",
   "metadata": {},
   "source": [
    "### Moving Average Representation: window = 6 & 12 months"
   ]
  },
  {
   "cell_type": "code",
   "execution_count": null,
   "metadata": {
    "scrolled": true
   },
   "outputs": [],
   "source": [
    "rolmean = pd.rolling_mean(df_marsa, window=12)\n",
    "\n",
    "marsa_timeserie = go.Scatter(\n",
    "                x = df_marsa.index,\n",
    "                y=df_marsa.values,\n",
    "                name = \"MARSA\",\n",
    "                line = dict(color = 'darkblue'),\n",
    "                opacity = 0.8)\n",
    "\n",
    "moving_average_marsa = go.Scatter(\n",
    "                x = rolmean.index,\n",
    "                y=rolmean[0].values,\n",
    "                name = \"Rolmean\",\n",
    "                line = dict(color = 'green'),\n",
    "                opacity = 0.8, mode = 'lines')\n",
    "\n",
    "data = [marsa_timeserie, moving_average_marsa]\n",
    "\n",
    "fig = dict(data=data)\n",
    "py.iplot(fig, filename = \"RolMean\")"
   ]
  },
  {
   "cell_type": "code",
   "execution_count": null,
   "metadata": {
    "scrolled": true
   },
   "outputs": [],
   "source": [
    "rolmean = pd.rolling_mean(df_marsa, window=6)\n",
    "\n",
    "marsa_timeserie = go.Scatter(\n",
    "                x = df_marsa.index,\n",
    "                y=df_marsa.values,\n",
    "                name = \"MARSA\",\n",
    "                line = dict(color = 'darkblue'),\n",
    "                opacity = 0.8)\n",
    "\n",
    "moving_average_marsa = go.Scatter(\n",
    "                x = rolmean.index,\n",
    "                y=rolmean[0].values,\n",
    "                name = \"Rolmean\",\n",
    "                line = dict(color = 'green'),\n",
    "                opacity = 0.8, mode = 'lines')\n",
    "\n",
    "data = [marsa_timeserie, moving_average_marsa]\n",
    "\n",
    "fig = dict(data=data)\n",
    "py.iplot(fig, filename = \"RolMean\")"
   ]
  },
  {
   "cell_type": "markdown",
   "metadata": {},
   "source": [
    "### MARSA Differencing and Moving Average"
   ]
  },
  {
   "cell_type": "code",
   "execution_count": null,
   "metadata": {
    "scrolled": true
   },
   "outputs": [],
   "source": [
    "df_marsa_dif = df_marsa.diff()\n",
    "\n",
    "rolmean_dif = pd.rolling_mean(df_marsa_dif, window=12)\n",
    "\n",
    "marsa_timeserie_dif = go.Scatter(\n",
    "                x = df_marsa_dif.index,\n",
    "                y=df_marsa_dif.values,\n",
    "                name = \"MARSA_DIF\",\n",
    "                line = dict(color = 'darkblue'),\n",
    "                opacity = 0.8)\n",
    "\n",
    "moving_average_marsa_dif = go.Scatter(\n",
    "                x = rolmean_dif.index,\n",
    "                y=rolmean_dif[0].values,\n",
    "                name = \"Rolmean_Dif\",\n",
    "                line = dict(color = 'green'),\n",
    "                opacity = 0.8, mode = 'lines')\n",
    "\n",
    "data_dif = [marsa_timeserie_dif, moving_average_marsa_dif]\n",
    "\n",
    "fig = dict(data=data_dif)\n",
    "py.iplot(fig, filename = \"RolMeanDif\")"
   ]
  },
  {
   "cell_type": "markdown",
   "metadata": {},
   "source": [
    "### Variance Representation"
   ]
  },
  {
   "cell_type": "code",
   "execution_count": null,
   "metadata": {
    "scrolled": true
   },
   "outputs": [],
   "source": [
    "rolstd_dif = pd.rolling_std(df_marsa_dif, window=12)\n",
    "\n",
    "marsa_timeserie_dif = go.Scatter(\n",
    "                x = df_marsa_dif.index,\n",
    "                y=df_marsa_dif.values,\n",
    "                name = \"MARSA_DIF\",\n",
    "                line = dict(color = 'darkblue'),\n",
    "                opacity = 0.8)\n",
    "\n",
    "rol_std_dif = go.Scatter(\n",
    "                x = rolstd_dif.index,\n",
    "                y=rolstd_dif[0].values,\n",
    "                name = \"RollingStd_Dif\",\n",
    "                line = dict(color = 'green'),\n",
    "                opacity = 0.8, mode = 'lines')\n",
    "\n",
    "data2_dif = [marsa_timeserie_dif, rol_std_dif]\n",
    "\n",
    "fig = dict(data=data2_dif)\n",
    "py.iplot(fig, filename = \"VarianceDif\")"
   ]
  },
  {
   "cell_type": "markdown",
   "metadata": {},
   "source": [
    "### Variance stabilization:  Box-Cox transformations"
   ]
  },
  {
   "cell_type": "code",
   "execution_count": null,
   "metadata": {
    "scrolled": true
   },
   "outputs": [],
   "source": [
    "import scipy as sp\n",
    "\n",
    "t = sp.stats.boxcox(df_training[0], lmbda=None)\n",
    "t[1]"
   ]
  },
  {
   "cell_type": "code",
   "execution_count": null,
   "metadata": {
    "scrolled": true
   },
   "outputs": [],
   "source": [
    "df_training_prim = np.sqrt(df_training)\n",
    "\n",
    "t_prim = sp.stats.boxcox(df_training_prim)\n",
    "t_prim[1]"
   ]
  },
  {
   "cell_type": "markdown",
   "metadata": {},
   "source": [
    "## Variance representation with Box-Cox transformation"
   ]
  },
  {
   "cell_type": "code",
   "execution_count": null,
   "metadata": {
    "scrolled": true
   },
   "outputs": [],
   "source": [
    "df_marsa_sqrt = np.sqrt(df_marsa)\n",
    "df_marsa_dif_sqrt = df_marsa_sqrt.diff()\n",
    "\n",
    "\n",
    "rolstd_dif_sqrt = pd.rolling_std(df_marsa_dif_sqrt, window=12)\n",
    "rolmean_dif_sqrt = pd.rolling_mean(df_marsa_dif_sqrt, window=12)\n",
    "\n",
    "marsa_timeserie_dif_sqrt = go.Scatter(\n",
    "                x = df_marsa_dif_sqrt.index,\n",
    "                y=df_marsa_dif_sqrt.values,\n",
    "                name = \"MARSA_DIF_SQRT\",\n",
    "                line = dict(color = 'darkblue'),\n",
    "                opacity = 0.8)\n",
    "\n",
    "marsa_rolstd_dif_sqrt = go.Scatter(\n",
    "                x = rolstd_dif_sqrt.index,\n",
    "                y=rolstd_dif_sqrt.values,\n",
    "                name = \"MARSAROLSTD_DIF_SQRT\",\n",
    "                line = dict(color = 'darkred'),\n",
    "                opacity = 0.8)\n",
    "\n",
    "marsa_rolmean_dif_sqrt = go.Scatter(\n",
    "                x = rolmean_dif_sqrt.index,\n",
    "                y=rolmean_dif_sqrt.values,\n",
    "                name = \"MARSAROLMEAN_DIF_SQRT\",\n",
    "                line = dict(color = 'green'),\n",
    "                opacity = 0.8)\n",
    "\n",
    "\n",
    "data3_dif_sqrt = [marsa_timeserie_dif_sqrt, marsa_rolmean_dif_sqrt, marsa_rolstd_dif_sqrt]\n",
    "\n",
    "fig = dict(data=data3_dif_sqrt)\n",
    "py.iplot(fig, filename = \"DifSqrt\")"
   ]
  },
  {
   "cell_type": "markdown",
   "metadata": {},
   "source": [
    "### Dickey-Fuller Test"
   ]
  },
  {
   "cell_type": "code",
   "execution_count": null,
   "metadata": {
    "scrolled": true
   },
   "outputs": [],
   "source": [
    "# Maxlag value depends on the number of observations\n",
    "adfuller(df_training[0])\n",
    "df_pvalue = adfuller(df_training[0])[1]\n",
    "df_pvalue\n",
    "adfuller(df_training[0])"
   ]
  },
  {
   "cell_type": "markdown",
   "metadata": {},
   "source": [
    "### Series Decomposition"
   ]
  },
  {
   "cell_type": "code",
   "execution_count": null,
   "metadata": {
    "scrolled": true
   },
   "outputs": [],
   "source": [
    "from statsmodels.tsa.seasonal import seasonal_decompose\n",
    "result = seasonal_decompose(df_marsa[0], model='additive', freq=12)\n",
    "r = result.plot()"
   ]
  },
  {
   "cell_type": "markdown",
   "metadata": {},
   "source": [
    "### ACF & PACF"
   ]
  },
  {
   "cell_type": "code",
   "execution_count": null,
   "metadata": {
    "scrolled": true
   },
   "outputs": [],
   "source": [
    "plt.figure(figsize=(18, 8))\n",
    "plt.subplot(121)\n",
    "plot_acf(df_training, ax=plt.gca(),lags=25)\n",
    "plt.subplot(122)\n",
    "plot_pacf(df_training, ax=plt.gca(), lags=25)\n",
    "plt.show()"
   ]
  },
  {
   "cell_type": "markdown",
   "metadata": {},
   "source": [
    "### Differenced Series ACF & PACF (d = 1)"
   ]
  },
  {
   "cell_type": "code",
   "execution_count": null,
   "metadata": {
    "scrolled": true
   },
   "outputs": [],
   "source": [
    "df_diff = np.diff(df_training[0])"
   ]
  },
  {
   "cell_type": "code",
   "execution_count": null,
   "metadata": {
    "scrolled": true
   },
   "outputs": [],
   "source": [
    "plt.figure(figsize=(18, 8))\n",
    "plt.subplot(121)\n",
    "plot_acf(df_diff, ax=plt.gca(),lags=25)\n",
    "plt.subplot(122)\n",
    "plot_pacf(df_diff, ax=plt.gca(), lags=25)\n",
    "plt.show()"
   ]
  },
  {
   "cell_type": "markdown",
   "metadata": {},
   "source": [
    "### Naive"
   ]
  },
  {
   "cell_type": "code",
   "execution_count": null,
   "metadata": {
    "scrolled": true
   },
   "outputs": [],
   "source": [
    "naive_test = np.full((1,len(df_test[0])), df_training[0][-1])\n",
    "df_test['Naive'] = naive_test[0]\n",
    "\n",
    "naive_rmse = get_rmse(df_test[0], df_test['Naive'])\n",
    "\n",
    "training = go.Scatter(\n",
    "                x = df_training.index,\n",
    "                y=df_training.values,\n",
    "                name = \"Training\",\n",
    "                line = dict(color = 'darkblue'),\n",
    "                opacity = 0.8)\n",
    "\n",
    "naive = go.Scatter(\n",
    "                x = df_test.index,\n",
    "                y=df_test['Naive'],\n",
    "                name = \"Naive\",\n",
    "                line = dict(color = 'red'),\n",
    "                opacity = 0.8,\n",
    "                mode = 'lines')\n",
    "\n",
    "test = go.Scatter(\n",
    "                x = df_test.index,\n",
    "                y=df_test[0].values,\n",
    "                name = \"Test\",\n",
    "                line = dict(color = 'green'),\n",
    "                opacity = 0.8,\n",
    "                mode = 'lines')\n",
    "\n",
    "data = [training, naive, test]\n",
    "\n",
    "fig = dict(data=data)\n",
    "py.iplot(fig, filename = \"Naive\")"
   ]
  },
  {
   "cell_type": "code",
   "execution_count": null,
   "metadata": {
    "scrolled": true
   },
   "outputs": [],
   "source": [
    "naive_rmse"
   ]
  },
  {
   "cell_type": "markdown",
   "metadata": {},
   "source": [
    "### Simple Average"
   ]
  },
  {
   "cell_type": "code",
   "execution_count": null,
   "metadata": {
    "scrolled": true
   },
   "outputs": [],
   "source": [
    "sa_test = np.full((1,len(df_test[0])), (df_training[0]).mean())\n",
    "df_test['SimpleAverage'] = sa_test[0]\n",
    "\n",
    "sa_rmse = get_rmse(df_test[0], df_test['SimpleAverage'])\n",
    "\n",
    "training = go.Scatter(\n",
    "                x = df_training.index,\n",
    "                y=df_training.values,\n",
    "                name = \"Training\",\n",
    "                line = dict(color = 'darkblue'),\n",
    "                opacity = 0.8)\n",
    "\n",
    "test = go.Scatter(\n",
    "                x = df_test.index,\n",
    "                y=df_test[0].values,\n",
    "                name = \"Test\",\n",
    "                line = dict(color = 'green'),\n",
    "                opacity = 0.8, mode = 'lines')\n",
    "\n",
    "simpleaverage = go.Scatter(\n",
    "                x = df_test.index,\n",
    "                y=df_test['SimpleAverage'],\n",
    "                name = \"Simple Average\",\n",
    "                line = dict(color = 'red'),\n",
    "                opacity = 0.8, mode = 'lines')\n",
    "\n",
    "data = [training, simpleaverage, test]\n",
    "\n",
    "fig = dict(data=data)\n",
    "py.iplot(fig, filename = \"SimpleAverage\")"
   ]
  },
  {
   "cell_type": "code",
   "execution_count": null,
   "metadata": {
    "scrolled": true
   },
   "outputs": [],
   "source": [
    "sa_rmse"
   ]
  },
  {
   "cell_type": "code",
   "execution_count": null,
   "metadata": {
    "scrolled": true
   },
   "outputs": [],
   "source": [
    "if naive_rmse < sa_rmse:\n",
    "    rmse_val = naive_rmse\n",
    "else:\n",
    "    rmse_val = sa_rmse"
   ]
  },
  {
   "cell_type": "markdown",
   "metadata": {},
   "source": [
    "### Holt-Winters"
   ]
  },
  {
   "cell_type": "code",
   "execution_count": null,
   "metadata": {
    "scrolled": true
   },
   "outputs": [],
   "source": [
    "from statsmodels.tsa.api import ExponentialSmoothing\n",
    "\n",
    "holt_grid = []\n",
    "lst = ['mul', 'add']\n",
    "   \n",
    "for i in range(2, 13):\n",
    "    for t in lst:\n",
    "        for s in lst:\n",
    "            fit1 = ExponentialSmoothing(df_training[0] ,seasonal_periods=i, trend=t, seasonal=s).fit()\n",
    "            fc = fit1.forecast(len(df_test[0]))\n",
    "            rmse = get_rmse(df_test[0], fc)\n",
    "            holt_grid.append([[i, t, s], fit1.bic, fit1.aic, rmse])"
   ]
  },
  {
   "cell_type": "code",
   "execution_count": null,
   "metadata": {
    "scrolled": true
   },
   "outputs": [],
   "source": [
    "holt_grid.sort(key=lambda x: x[3])\n",
    "df_holtgrid = pd.DataFrame(holt_grid)\n",
    "df_holtgrid = df_holtgrid[df_holtgrid[1] != np.inf]\n",
    "df_holtgrid = df_holtgrid[pd.notnull(df_holtgrid[1])]\n",
    "df_holtgrid = df_holtgrid[df_holtgrid[3] < rmse_val]"
   ]
  },
  {
   "cell_type": "code",
   "execution_count": null,
   "metadata": {
    "scrolled": true
   },
   "outputs": [],
   "source": [
    "save_to_pickle(df_holtgrid, 'DataFrames/MARSA_holtwinters.pkl')"
   ]
  },
  {
   "cell_type": "code",
   "execution_count": null,
   "metadata": {
    "scrolled": true
   },
   "outputs": [],
   "source": [
    "df_holtgrid = load_from_pickle('DataFrames/MARSA_holtwinters.pkl')\n",
    "df_holtgrid.columns = ['Model', 'BIC', 'AIC', 'RMSE']\n",
    "df_holtgrid"
   ]
  },
  {
   "cell_type": "code",
   "execution_count": null,
   "metadata": {
    "scrolled": false
   },
   "outputs": [],
   "source": [
    "from statsmodels.tsa.api import ExponentialSmoothing\n",
    "\n",
    "fit1 = ExponentialSmoothing(df_training[0], seasonal_periods=12, trend='mul', seasonal='add').fit()\n",
    "fc1 = fit1.forecast(len(df_test[0]))\n",
    "\n",
    "fit2 = ExponentialSmoothing(df_training[0], seasonal_periods=12, trend='add', seasonal='add').fit()\n",
    "fc2 = fit2.forecast(len(df_test[0]))\n",
    "\n",
    "training = go.Scatter(\n",
    "                x = df_training.index,\n",
    "                y=df_training.values,\n",
    "                name = \"Training\",\n",
    "                line = dict(color = 'darkblue'),\n",
    "                opacity = 0.8)\n",
    "\n",
    "fitted1 = go.Scatter(\n",
    "                x = df_training.index,\n",
    "                y=fit1.fittedvalues,\n",
    "                name = \"trend = mul, stat = add, periods = 12\",\n",
    "                line = dict(color = 'gray'),\n",
    "                opacity = 0.8)\n",
    "\n",
    "fitted2 = go.Scatter(\n",
    "                x = df_training.index,\n",
    "                y=fit2.fittedvalues,\n",
    "                name = \"trend = add, stat = add, periods = 12\",\n",
    "                line = dict(color = 'red'),\n",
    "                opacity = 0.8)\n",
    "\n",
    "forecast1 = go.Scatter(\n",
    "                x = df_test.index,\n",
    "                y=fc1,\n",
    "                name = \"Forecast add:add:12\",\n",
    "                line = dict(color = 'magenta'),\n",
    "                opacity = 0.8)\n",
    "\n",
    "forecast2 = go.Scatter(\n",
    "                x = df_test.index,\n",
    "                y=fc2,\n",
    "                name = \"Forecast mul:add:12\",\n",
    "                line = dict(color = 'brown'),\n",
    "                opacity = 0.8)\n",
    "\n",
    "test = go.Scatter(\n",
    "                x = df_test.index,\n",
    "                y= df_test[0].values,\n",
    "                name = \"Test\",\n",
    "                line = dict(color = 'green'),\n",
    "                opacity = 0.8)\n",
    "\n",
    "data = [training, fitted1, fitted2, forecast1, forecast2, test]\n",
    "\n",
    "fig = dict(data=data)\n",
    "py.iplot(fig, filename = \"Holt-Winters\")"
   ]
  },
  {
   "cell_type": "markdown",
   "metadata": {},
   "source": [
    "### ARIMA"
   ]
  },
  {
   "cell_type": "markdown",
   "metadata": {},
   "source": [
    "### Filtered by RMSE"
   ]
  },
  {
   "cell_type": "code",
   "execution_count": null,
   "metadata": {
    "scrolled": false
   },
   "outputs": [],
   "source": [
    "ma_rmse = df_grid[df_grid['RMSE'] < df_holtgrid.values[0][3]]\n",
    "ma_rmse"
   ]
  },
  {
   "cell_type": "markdown",
   "metadata": {},
   "source": [
    "### Ljung Box Filter"
   ]
  },
  {
   "cell_type": "code",
   "execution_count": null,
   "metadata": {
    "scrolled": true
   },
   "outputs": [],
   "source": [
    "fits = []\n",
    "for i in ma_rmse['Model']:\n",
    "    mod = SARIMAX(df_training[0], order=(int(i[0]), int(i[1]), int(i[2])), seasonal_order=(int(i[3]), int(i[4]),\n",
    "                                                                                           int(i[5]), int(i[6])), \n",
    "                      enforce_stationarity=False, enforce_invertibility=False)\n",
    "    fit = mod.fit()\n",
    "    fits.append(fit)"
   ]
  },
  {
   "cell_type": "code",
   "execution_count": null,
   "metadata": {
    "scrolled": true
   },
   "outputs": [],
   "source": [
    "pvalue = []\n",
    "for i in fits:\n",
    "    try:\n",
    "        a = i.summary()\n",
    "        tb = a.tables[2]\n",
    "        b = tb[1]\n",
    "        pvalue.append(float(b.data[1]))\n",
    "    except:\n",
    "        pvalue.append(float(0.00))\n",
    "        \n",
    "ma_rmse['LjungBox'] = pvalue"
   ]
  },
  {
   "cell_type": "code",
   "execution_count": null,
   "metadata": {
    "scrolled": false
   },
   "outputs": [],
   "source": [
    "ma_rmse['Fit'] = fits\n",
    "ma_ljungbox = ma_rmse[ma_rmse['LjungBox'] > 0.05]\n",
    "ma_ljungbox"
   ]
  },
  {
   "cell_type": "markdown",
   "metadata": {},
   "source": [
    "### Invertibility and Stationarity"
   ]
  },
  {
   "cell_type": "code",
   "execution_count": null,
   "metadata": {
    "scrolled": true
   },
   "outputs": [],
   "source": [
    "def test_invertibility_stationarity(fit):\n",
    "    ma_roots = []\n",
    "    ar_roots = []\n",
    "    is_statio = True\n",
    "    is_invert = True\n",
    "    for ma in fit.maroots:\n",
    "        ma_roots.append(np.sqrt(ma.real**2 + ma.imag**2))\n",
    "    for ar in fit.arroots:\n",
    "        ar_roots.append(np.sqrt(ar.real**2 + ar.imag**2))\n",
    "    return not len([*filter(lambda x: x < 0.99, ma_roots)]) > 0, not len([*filter(lambda x: x < 0.99, ar_roots)]) > 0\n",
    "\n",
    "def test_invertibility_abs(fit):\n",
    "    ma_roots = []\n",
    "    is_statio = True\n",
    "    for ma in fit.maroots:\n",
    "        ma_roots.append(np.abs(ma.real) + np.abs(ma.imag)) \n",
    "    return not len([*filter(lambda x: x < 0.99, ma_roots)]) > 0\n",
    "\n",
    "def test_invertibility_stationarity_final(fit):\n",
    "    is_statio = 1\n",
    "    is_invert = 1\n",
    "    for ma in fit.maroots:\n",
    "        if np.abs(ma.real) < 0.99 and np.abs(ma.imag) < 0.99:\n",
    "            is_invert = 0\n",
    "            break\n",
    "    for ar in fit.arroots:\n",
    "        if np.abs(ar.real) < 0.99 and np.abs(ar.imag) < 0.99:\n",
    "            is_statio = 0\n",
    "            break\n",
    "    return is_statio, is_invert"
   ]
  },
  {
   "cell_type": "code",
   "execution_count": null,
   "metadata": {
    "scrolled": true
   },
   "outputs": [],
   "source": [
    "invert_ = []\n",
    "statio_ = []\n",
    "\n",
    "for i in ma_ljungbox['Fit']:\n",
    "    invert_.append(test_invertibility_stationarity(i))\n",
    "    \n",
    "linvert = [x[0] for x in invert_]\n",
    "lstatio = [x[1] for x in invert_]\n",
    "\n",
    "ma_invert = ma_ljungbox\n",
    "ma_invert['Invertibility'] = linvert\n",
    "ma_invert['Stationarity'] = lstatio"
   ]
  },
  {
   "cell_type": "code",
   "execution_count": null,
   "metadata": {
    "scrolled": false
   },
   "outputs": [],
   "source": [
    "invertibility_models = ma_invert[ma_invert['Invertibility'] == True]\n",
    "invertibility_models['Fit'][28279].summary()\n",
    "invert_statio_models = invertibility_models[invertibility_models['Stationarity'] == True]\n",
    "invert_statio_models.hist(figsize=(10,8))"
   ]
  },
  {
   "cell_type": "markdown",
   "metadata": {},
   "source": [
    "### Parsimony Filter"
   ]
  },
  {
   "cell_type": "code",
   "execution_count": null,
   "metadata": {
    "scrolled": true
   },
   "outputs": [],
   "source": [
    "models = invert_statio_models.drop(labels=['Invertibility', 'Stationarity', 'Fit', 'LjungBox'], axis=1)"
   ]
  },
  {
   "cell_type": "code",
   "execution_count": null,
   "metadata": {
    "scrolled": true
   },
   "outputs": [],
   "source": [
    "models.hist(figsize=(10,8))"
   ]
  },
  {
   "cell_type": "code",
   "execution_count": null,
   "metadata": {
    "scrolled": true
   },
   "outputs": [],
   "source": [
    "sum_models = []\n",
    "for i in models['Model']:\n",
    "    sum_models.append(sum(i[:len(i)-1]))\n",
    "    \n",
    "models['Parsimony'] = sum_models\n",
    "ma_parsimony = models[models['Parsimony'] <= 8]"
   ]
  },
  {
   "cell_type": "code",
   "execution_count": null,
   "metadata": {
    "scrolled": false
   },
   "outputs": [],
   "source": [
    "ma_parsimony"
   ]
  },
  {
   "cell_type": "code",
   "execution_count": null,
   "metadata": {
    "scrolled": true
   },
   "outputs": [],
   "source": [
    "ma_parsimony.hist(figsize=(10,8))"
   ]
  },
  {
   "cell_type": "markdown",
   "metadata": {},
   "source": [
    "### Complexity filter by AIC"
   ]
  },
  {
   "cell_type": "code",
   "execution_count": null,
   "metadata": {
    "scrolled": false
   },
   "outputs": [],
   "source": [
    "ma_par_aic = ma_parsimony[ma_parsimony['AIC'] < 450]\n",
    "ma_par_aic = ma_par_aic.sort_values('RMSE')\n",
    "ma_par_aic"
   ]
  },
  {
   "cell_type": "code",
   "execution_count": null,
   "metadata": {
    "scrolled": true
   },
   "outputs": [],
   "source": [
    "ma_par_aic.hist('AIC')"
   ]
  },
  {
   "cell_type": "code",
   "execution_count": null,
   "metadata": {
    "scrolled": true
   },
   "outputs": [],
   "source": [
    "ma_par_aic.hist('RMSE')"
   ]
  },
  {
   "cell_type": "code",
   "execution_count": null,
   "metadata": {
    "scrolled": true
   },
   "outputs": [],
   "source": [
    "ma_par_aic_rmse = ma_par_aic[ma_par_aic['RMSE'] <= 2.8]\n",
    "ma_par_aic_rmse\n",
    "\n",
    "df_training.hist()\n",
    "np.std(df_training)"
   ]
  },
  {
   "cell_type": "code",
   "execution_count": null,
   "metadata": {
    "scrolled": true
   },
   "outputs": [],
   "source": [
    "ma_par_aic_rmse63 = ma_par_aic[ma_par_aic['RMSE3'] < ma_par_aic['RMSE6']]\n",
    "ma_par_aic_rmsefinal = ma_par_aic_rmse63[ma_par_aic_rmse63['RMSE6'] < ma_par_aic_rmse63['RMSE']]\n",
    "ma_par_aic_rmsefinal"
   ]
  },
  {
   "cell_type": "code",
   "execution_count": null,
   "metadata": {
    "scrolled": true
   },
   "outputs": [],
   "source": [
    "ma_orderedby_rmse = ma_par_aic.sort_values('RMSE')\n",
    "ma_orderedby_rmse[:5]"
   ]
  },
  {
   "cell_type": "code",
   "execution_count": null,
   "metadata": {
    "scrolled": true
   },
   "outputs": [],
   "source": [
    "ma_orderedby_rmse6 = ma_par_aic.sort_values('RMSE6')\n",
    "ma_orderedby_rmse6[:5]"
   ]
  },
  {
   "cell_type": "code",
   "execution_count": null,
   "metadata": {
    "scrolled": true
   },
   "outputs": [],
   "source": [
    "ma_orderedby_rmse3 = ma_par_aic.sort_values('RMSE3')\n",
    "ma_orderedby_rmse3[:5]"
   ]
  },
  {
   "cell_type": "code",
   "execution_count": null,
   "metadata": {
    "scrolled": false
   },
   "outputs": [],
   "source": [
    "#[2, 0, 3, 2, 0, 1, 9]\n",
    "#[3, 0, 0, 3, 1, 1, 10]\n",
    "\n",
    "mod = SARIMAX(df_training[0], order=(4, 0, 1), seasonal_order=(1, 0, 2, 7), \n",
    "                      enforce_stationarity=False, enforce_invertibility=False)\n",
    "fit = mod.fit()\n",
    "\n",
    "training = go.Scatter(\n",
    "                x = df_training.index,\n",
    "                y=df_training.values,\n",
    "                name = \"Training\",\n",
    "                line = dict(color = '#17BECF'),\n",
    "                opacity = 0.8)\n",
    "\n",
    "fitted = go.Scatter(\n",
    "                x = df_training.index,\n",
    "                y=fit.fittedvalues,\n",
    "                name = \"Fitted Values\",\n",
    "                line = dict(color = 'red'),\n",
    "                opacity = 0.8)\n",
    "\n",
    "forecast = go.Scatter(\n",
    "                x = df_test.index,\n",
    "                y=fit.predict(start = 96, end = len(df_marsa)-1),\n",
    "                name = \"Forecast\",\n",
    "                line = dict(color = 'blue'),\n",
    "                opacity = 0.8)\n",
    "\n",
    "test = go.Scatter(\n",
    "                x = df_test.index,\n",
    "                y= df_test[0].values,\n",
    "                name = \"Test\",\n",
    "                line = dict(color = 'green'),\n",
    "                opacity = 0.8)\n",
    "\n",
    "data = [training, fitted, forecast, test]\n",
    "\n",
    "fig = dict(data=data)\n",
    "py.iplot(fig, filename = \"ARIMA\")"
   ]
  },
  {
   "cell_type": "code",
   "execution_count": null,
   "metadata": {
    "scrolled": true
   },
   "outputs": [],
   "source": [
    "diagn = fit.plot_diagnostics(figsize=(16,12))"
   ]
  },
  {
   "cell_type": "code",
   "execution_count": null,
   "metadata": {
    "scrolled": true
   },
   "outputs": [],
   "source": [
    "import scipy.stats as stats\n",
    "import pylab\n",
    "prob_plot = stats.probplot(fit.resid, dist=\"norm\",plot=pylab)"
   ]
  },
  {
   "cell_type": "code",
   "execution_count": null,
   "metadata": {
    "scrolled": true
   },
   "outputs": [],
   "source": [
    "acf_residuals = plot_acf(fit.resid, lags=25)"
   ]
  },
  {
   "cell_type": "code",
   "execution_count": null,
   "metadata": {
    "scrolled": true
   },
   "outputs": [],
   "source": [
    "fit.summary()"
   ]
  },
  {
   "cell_type": "code",
   "execution_count": null,
   "metadata": {
    "scrolled": true
   },
   "outputs": [],
   "source": [
    "listmodelos = []\n",
    "listmodelostexto = []\n",
    "\n",
    "for i in ma_orderedby_rmse3['Model']:\n",
    "    mod = SARIMAX(df_training[0], order=(int(i[0]), int(i[1]), int(i[2])), \n",
    "                  seasonal_order=(int(i[3]), int(i[4]), int(i[5]), int(i[6])), \n",
    "                      enforce_stationarity=False, enforce_invertibility=False)\n",
    "    fit = mod.fit()\n",
    "    listmodelos.append(fit)\n",
    "    listmodelostexto.append(i)\n",
    "\n",
    "training = go.Scatter(\n",
    "                x = df_training.index,\n",
    "                y=df_training.values,\n",
    "                name = \"Training\",\n",
    "                line = dict(color = '#17BECF'),\n",
    "                opacity = 0.8)\n",
    "\n",
    "forecast1 = go.Scatter(\n",
    "                x = df_test.index,\n",
    "                y=listmodelos[0].predict(start = 96, end = len(df_marsa)-1),\n",
    "                name = str(listmodelostexto[0]),\n",
    "                line = dict(color = 'orange'),\n",
    "                opacity = 0.8)\n",
    "\n",
    "forecast2 = go.Scatter(\n",
    "                x = df_test.index,\n",
    "                y=listmodelos[1].predict(start = 96, end = len(df_marsa)-1),\n",
    "                name = str(listmodelostexto[1]),\n",
    "                line = dict(color = 'green'),\n",
    "                opacity = 0.8)\n",
    "\n",
    "forecast3 = go.Scatter(\n",
    "                x = df_test.index,\n",
    "                y=listmodelos[2].predict(start = 96, end = len(df_marsa)-1),\n",
    "                name = str(listmodelostexto[2]),\n",
    "                line = dict(color = 'magenta'),\n",
    "                opacity = 0.8)\n",
    "\n",
    "forecast4 = go.Scatter(\n",
    "                x = df_test.index,\n",
    "                y=listmodelos[3].predict(start = 96, end = len(df_marsa)-1),\n",
    "                name = str(listmodelostexto[3]),\n",
    "                line = dict(color = 'red'),\n",
    "                opacity = 0.8)\n",
    "\n",
    "forecast5 = go.Scatter(\n",
    "                x = df_test.index,\n",
    "                y=listmodelos[4].predict(start = 96, end = len(df_marsa)-1),\n",
    "                name = str(listmodelostexto[4]),\n",
    "                line = dict(color = 'darkgrey'),\n",
    "                opacity = 0.8)\n",
    "\n",
    "test = go.Scatter(\n",
    "                x = df_test.index,\n",
    "                y= df_test[0].values,\n",
    "                name = \"Test\",\n",
    "                line = dict(color = 'blue'),\n",
    "                opacity = 1)\n",
    "\n",
    "data = [training, forecast1, forecast2, forecast3, forecast4, forecast5, test]\n",
    "\n",
    "fig = dict(data=data)\n",
    "py.iplot(fig, filename = \"ARIMA\")"
   ]
  }
 ],
 "metadata": {
  "kernelspec": {
   "display_name": "Python 3",
   "language": "python",
   "name": "python3"
  },
  "language_info": {
   "codemirror_mode": {
    "name": "ipython",
    "version": 3
   },
   "file_extension": ".py",
   "mimetype": "text/x-python",
   "name": "python",
   "nbconvert_exporter": "python",
   "pygments_lexer": "ipython3",
   "version": "3.6.4"
  }
 },
 "nbformat": 4,
 "nbformat_minor": 2
}
